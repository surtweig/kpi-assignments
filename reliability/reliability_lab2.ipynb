{
  "nbformat": 4,
  "nbformat_minor": 0,
  "metadata": {
    "colab": {
      "name": "reliability-lab2.ipynb",
      "provenance": [],
      "collapsed_sections": [],
      "authorship_tag": "ABX9TyNSiD5SFrs7Lmvovu+5wJfW",
      "include_colab_link": true
    },
    "kernelspec": {
      "name": "python3",
      "display_name": "Python 3"
    },
    "language_info": {
      "name": "python"
    }
  },
  "cells": [
    {
      "cell_type": "markdown",
      "metadata": {
        "id": "view-in-github",
        "colab_type": "text"
      },
      "source": [
        "<a href=\"https://colab.research.google.com/github/surtweig/kpi-assignments/blob/master/reliability/reliability_lab2.ipynb\" target=\"_parent\"><img src=\"https://colab.research.google.com/assets/colab-badge.svg\" alt=\"Open In Colab\"/></a>"
      ]
    },
    {
      "cell_type": "markdown",
      "metadata": {
        "id": "bZm8yNutS51O"
      },
      "source": [
        "### Схема"
      ]
    },
    {
      "cell_type": "code",
      "metadata": {
        "id": "QyC88DBcS12u"
      },
      "source": [
        "connectivity = [\n",
        "    # 0 1 2 3 4 5 6 7 8 9\n",
        "    [ 0,1,0,0,0,0,0,0,0,0 ], # 0 start node\n",
        "    [ 0,0,1,1,0,0,0,0,0,0 ], # 1 \n",
        "    [ 0,0,0,0,1,1,0,0,0,0 ], # 2\n",
        "    [ 0,0,0,0,1,0,1,0,1,0 ], # 3 \n",
        "    [ 0,0,0,0,0,1,1,0,1,0 ], # 4 \n",
        "    [ 0,0,0,0,0,0,1,1,0,0 ], # 5 \n",
        "    [ 0,0,0,0,0,0,0,1,1,0 ], # 6 \n",
        "    [ 0,0,0,0,0,0,0,0,0,1 ], # 7 \n",
        "    [ 0,0,0,0,0,0,0,0,0,1 ], # 8\n",
        "    [ 0,0,0,0,0,0,0,0,0,0 ]  # 9 end node\n",
        "]\n",
        "\n",
        "probabilities = [1, 0.5, 0.6, 0.7, 0.8, 0.85, 0.9, 0.92, 0.94, 1]\n",
        "\n",
        "time = 10"
      ],
      "execution_count": 42,
      "outputs": []
    },
    {
      "cell_type": "markdown",
      "metadata": {
        "id": "HbB0y_jCp3Kj"
      },
      "source": [
        "### Поиск путей прохода"
      ]
    },
    {
      "cell_type": "code",
      "metadata": {
        "colab": {
          "base_uri": "https://localhost:8080/"
        },
        "id": "Ny1gwqy9p26V",
        "outputId": "661bdbe7-93b9-43e1-f8a3-e809ca20fd6e"
      },
      "source": [
        "def findRoutes(start, finish, con, routesList, currentRoute = None):\n",
        "    if currentRoute == None:\n",
        "        currentRoute = []\n",
        "\n",
        "    if len(currentRoute) > 0 and currentRoute[-1] == finish:\n",
        "        routesList.append(currentRoute)\n",
        "        return\n",
        "    \n",
        "    if len(currentRoute) == 0:\n",
        "        currentRoute.append(start)\n",
        "\n",
        "    currentNode = currentRoute[-1]\n",
        "\n",
        "    for nextNode in range(len(con[currentNode])):\n",
        "        if con[currentNode][nextNode]:\n",
        "            newRoute = list(currentRoute)\n",
        "            newRoute.append(nextNode)\n",
        "            findRoutes(start, finish, con, routesList, newRoute)\n",
        "\n",
        "routesList = []\n",
        "findRoutes(0, len(probabilities)-1, connectivity, routesList)\n",
        "\n",
        "print(len(routesList))\n",
        "for route in routesList:\n",
        "    print(route)"
      ],
      "execution_count": 43,
      "outputs": [
        {
          "output_type": "stream",
          "text": [
            "18\n",
            "[0, 1, 2, 4, 5, 6, 7, 9]\n",
            "[0, 1, 2, 4, 5, 6, 8, 9]\n",
            "[0, 1, 2, 4, 5, 7, 9]\n",
            "[0, 1, 2, 4, 6, 7, 9]\n",
            "[0, 1, 2, 4, 6, 8, 9]\n",
            "[0, 1, 2, 4, 8, 9]\n",
            "[0, 1, 2, 5, 6, 7, 9]\n",
            "[0, 1, 2, 5, 6, 8, 9]\n",
            "[0, 1, 2, 5, 7, 9]\n",
            "[0, 1, 3, 4, 5, 6, 7, 9]\n",
            "[0, 1, 3, 4, 5, 6, 8, 9]\n",
            "[0, 1, 3, 4, 5, 7, 9]\n",
            "[0, 1, 3, 4, 6, 7, 9]\n",
            "[0, 1, 3, 4, 6, 8, 9]\n",
            "[0, 1, 3, 4, 8, 9]\n",
            "[0, 1, 3, 6, 7, 9]\n",
            "[0, 1, 3, 6, 8, 9]\n",
            "[0, 1, 3, 8, 9]\n"
          ],
          "name": "stdout"
        }
      ]
    },
    {
      "cell_type": "markdown",
      "metadata": {
        "id": "t9YsYzjwyDoj"
      },
      "source": [
        "### Поиск работоспособных состояний"
      ]
    },
    {
      "cell_type": "code",
      "metadata": {
        "colab": {
          "base_uri": "https://localhost:8080/"
        },
        "id": "50z3EXvhyPrk",
        "outputId": "fbaa0ea0-5382-45b8-823c-d090bb86eb5f"
      },
      "source": [
        "# возвращает все варианты перебора s (множество всех подмножеств)\n",
        "def superset(s, sstart = [], istart = 0):\n",
        "    supers = [sstart]\n",
        "\n",
        "    if istart < len(s):\n",
        "        for i in range(istart, len(s)):\n",
        "            sstart2 = list(sstart)\n",
        "            sstart2.append(s[i])\n",
        "            supers.extend(superset(s, sstart2, i+1))\n",
        "    return supers\n",
        "\n",
        "# считает вероятность конкретного состояния\n",
        "def probMult(state, probabilities):\n",
        "    p = 1\n",
        "    for i in range(len(state)):\n",
        "        if state[i] == 0:\n",
        "            p *= 1-probabilities[i]\n",
        "        else:\n",
        "            p *= probabilities[i]\n",
        "    return p\n",
        "\n",
        "# считает хэш состояния, потому что Питон не умеет хэшировать листы\n",
        "def stateHash(state):\n",
        "    hash = 0\n",
        "    mask = 1\n",
        "    for i in range(len(state)):\n",
        "        hash += mask*state[i]\n",
        "        mask <<= 1\n",
        "    return hash\n",
        "\n",
        "# находим все работоспособные состояния и считаем их вероятность\n",
        "viableStates = {}\n",
        "for r in routesList:\n",
        "    state = [1 if i in r else 0 for i in range(len(probabilities))]\n",
        "    volatileNodes = []\n",
        "    for i in range(len(state)):\n",
        "        if state[i] == 0:\n",
        "            volatileNodes.append(i)\n",
        "\n",
        "    volatileNodesSuperSet = superset(volatileNodes)\n",
        "    for vn in volatileNodesSuperSet:\n",
        "        addedState = list(state)\n",
        "        for j in vn:\n",
        "            addedState[j] = 1\n",
        "        viableStates[stateHash(addedState)] = (probMult(addedState, probabilities), addedState)\n",
        "\n",
        "totalProbability = 0\n",
        "for k,v in viableStates.items():\n",
        "    totalProbability += v[0]\n",
        "    print(k, v)\n",
        "\n",
        "#print(\"\\nTotal probability = \", totalProbability)\n"
      ],
      "execution_count": 44,
      "outputs": [
        {
          "output_type": "stream",
          "text": [
            "759 (0.0030404160000000032, [1, 1, 1, 0, 1, 1, 1, 1, 0, 1])\n",
            "767 (0.007094304000000008, [1, 1, 1, 1, 1, 1, 1, 1, 0, 1])\n",
            "1023 (0.11114409600000001, [1, 1, 1, 1, 1, 1, 1, 1, 1, 1])\n",
            "1015 (0.047633184, [1, 1, 1, 0, 1, 1, 1, 1, 1, 1])\n",
            "887 (0.0041420159999999975, [1, 1, 1, 0, 1, 1, 1, 0, 1, 1])\n",
            "895 (0.009664703999999996, [1, 1, 1, 1, 1, 1, 1, 0, 1, 1])\n",
            "695 (0.00033782400000000024, [1, 1, 1, 0, 1, 1, 0, 1, 0, 1])\n",
            "703 (0.0007882560000000005, [1, 1, 1, 1, 1, 1, 0, 1, 0, 1])\n",
            "959 (0.012349343999999996, [1, 1, 1, 1, 1, 1, 0, 1, 1, 1])\n",
            "951 (0.0052925759999999985, [1, 1, 1, 0, 1, 1, 0, 1, 1, 1])\n",
            "727 (0.0005365440000000007, [1, 1, 1, 0, 1, 0, 1, 1, 0, 1])\n",
            "735 (0.0012519360000000012, [1, 1, 1, 1, 1, 0, 1, 1, 0, 1])\n",
            "991 (0.019613664, [1, 1, 1, 1, 1, 0, 1, 1, 1, 1])\n",
            "983 (0.008405856000000003, [1, 1, 1, 0, 1, 0, 1, 1, 1, 1])\n",
            "855 (0.0007309439999999998, [1, 1, 1, 0, 1, 0, 1, 0, 1, 1])\n",
            "863 (0.0017055359999999993, [1, 1, 1, 1, 1, 0, 1, 0, 1, 1])\n",
            "791 (8.121599999999996e-05, [1, 1, 1, 0, 1, 0, 0, 0, 1, 1])\n",
            "799 (0.00018950399999999987, [1, 1, 1, 1, 1, 0, 0, 0, 1, 1])\n",
            "831 (0.0010738559999999991, [1, 1, 1, 1, 1, 1, 0, 0, 1, 1])\n",
            "927 (0.002179296, [1, 1, 1, 1, 1, 0, 0, 1, 1, 1])\n",
            "823 (0.00046022399999999964, [1, 1, 1, 0, 1, 1, 0, 0, 1, 1])\n",
            "919 (0.000933984, [1, 1, 1, 0, 1, 0, 0, 1, 1, 1])\n",
            "743 (0.0007601040000000006, [1, 1, 1, 0, 0, 1, 1, 1, 0, 1])\n",
            "751 (0.0017735760000000013, [1, 1, 1, 1, 0, 1, 1, 1, 0, 1])\n",
            "1007 (0.027786023999999993, [1, 1, 1, 1, 0, 1, 1, 1, 1, 1])\n",
            "999 (0.011908295999999997, [1, 1, 1, 0, 0, 1, 1, 1, 1, 1])\n",
            "871 (0.0010355039999999992, [1, 1, 1, 0, 0, 1, 1, 0, 1, 1])\n",
            "879 (0.0024161759999999977, [1, 1, 1, 1, 0, 1, 1, 0, 1, 1])\n",
            "679 (8.445600000000005e-05, [1, 1, 1, 0, 0, 1, 0, 1, 0, 1])\n",
            "687 (0.00019706400000000008, [1, 1, 1, 1, 0, 1, 0, 1, 0, 1])\n",
            "943 (0.0030873359999999983, [1, 1, 1, 1, 0, 1, 0, 1, 1, 1])\n",
            "935 (0.0013231439999999994, [1, 1, 1, 0, 0, 1, 0, 1, 1, 1])\n",
            "763 (0.004729536000000004, [1, 1, 0, 1, 1, 1, 1, 1, 0, 1])\n",
            "1019 (0.07409606399999999, [1, 1, 0, 1, 1, 1, 1, 1, 1, 1])\n",
            "891 (0.006443135999999996, [1, 1, 0, 1, 1, 1, 1, 0, 1, 1])\n",
            "699 (0.0005255040000000003, [1, 1, 0, 1, 1, 1, 0, 1, 0, 1])\n",
            "955 (0.008232895999999998, [1, 1, 0, 1, 1, 1, 0, 1, 1, 1])\n",
            "731 (0.0008346240000000009, [1, 1, 0, 1, 1, 0, 1, 1, 0, 1])\n",
            "987 (0.013075776000000002, [1, 1, 0, 1, 1, 0, 1, 1, 1, 1])\n",
            "859 (0.0011370239999999997, [1, 1, 0, 1, 1, 0, 1, 0, 1, 1])\n",
            "795 (0.00012633599999999992, [1, 1, 0, 1, 1, 0, 0, 0, 1, 1])\n",
            "827 (0.0007159039999999994, [1, 1, 0, 1, 1, 1, 0, 0, 1, 1])\n",
            "923 (0.0014528639999999997, [1, 1, 0, 1, 1, 0, 0, 1, 1, 1])\n",
            "715 (0.00020865600000000012, [1, 1, 0, 1, 0, 0, 1, 1, 0, 1])\n",
            "719 (0.0003129840000000003, [1, 1, 1, 1, 0, 0, 1, 1, 0, 1])\n",
            "975 (0.004903416, [1, 1, 1, 1, 0, 0, 1, 1, 1, 1])\n",
            "747 (0.0011823840000000005, [1, 1, 0, 1, 0, 1, 1, 1, 0, 1])\n",
            "1003 (0.01852401599999999, [1, 1, 0, 1, 0, 1, 1, 1, 1, 1])\n",
            "971 (0.003268943999999999, [1, 1, 0, 1, 0, 0, 1, 1, 1, 1])\n",
            "843 (0.00028425599999999977, [1, 1, 0, 1, 0, 0, 1, 0, 1, 1])\n",
            "847 (0.00042638399999999976, [1, 1, 1, 1, 0, 0, 1, 0, 1, 1])\n",
            "875 (0.0016107839999999986, [1, 1, 0, 1, 0, 1, 1, 0, 1, 1])\n",
            "779 (3.158399999999997e-05, [1, 1, 0, 1, 0, 0, 0, 0, 1, 1])\n",
            "783 (4.737599999999996e-05, [1, 1, 1, 1, 0, 0, 0, 0, 1, 1])\n",
            "815 (0.00026846399999999967, [1, 1, 1, 1, 0, 1, 0, 0, 1, 1])\n",
            "911 (0.0005448239999999999, [1, 1, 1, 1, 0, 0, 0, 1, 1, 1])\n",
            "811 (0.00017897599999999977, [1, 1, 0, 1, 0, 1, 0, 0, 1, 1])\n",
            "939 (0.0020582239999999987, [1, 1, 0, 1, 0, 1, 0, 1, 1, 1])\n",
            "907 (0.00036321599999999986, [1, 1, 0, 1, 0, 0, 0, 1, 1, 1])\n"
          ],
          "name": "stdout"
        }
      ]
    },
    {
      "cell_type": "markdown",
      "metadata": {
        "id": "1GFfWHqSJgWg"
      },
      "source": [
        "### Рассчет параметров распределения"
      ]
    },
    {
      "cell_type": "code",
      "metadata": {
        "colab": {
          "base_uri": "https://localhost:8080/"
        },
        "id": "9NvP4lfGJjqg",
        "outputId": "3418216a-8e28-4fe8-c3e3-ea6d0e63fc6a"
      },
      "source": [
        "import numpy as np\n",
        "\n",
        "expLambda = -np.log(totalProbability) / time\n",
        "expMeanTime = 1/expLambda\n",
        "\n",
        "print(\"P = {0}, lambda = {1}, mean T = {2}\".format(totalProbability, expLambda, expMeanTime))"
      ],
      "execution_count": 45,
      "outputs": [
        {
          "output_type": "stream",
          "text": [
            "P = 0.4346051119999999, lambda = 0.08333174486887193, mean T = 12.000228743242648\n"
          ],
          "name": "stdout"
        }
      ]
    }
  ]
}